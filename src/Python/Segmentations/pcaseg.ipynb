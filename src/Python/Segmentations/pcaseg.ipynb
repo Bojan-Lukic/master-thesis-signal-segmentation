{
 "cells": [
  {
   "cell_type": "code",
   "execution_count": null,
   "id": "774e045b",
   "metadata": {},
   "outputs": [],
   "source": [
    "import numpy as np\n",
    "\n",
    "\n",
    "def pcaseg(data, inicBU, q, flag):\n",
    "    minres = np.floor(len(data[:][0])/200).astype(int)\n",
    "    degree = 1\n",
    "    left_x = np.arange(0, len(data[:][0]), minres)\n",
    "    right_x = left_x + minres\n",
    "    right_x[len(right_x) - 1] = len(data[:][0]) - 1\n",
    "    number_of_segments = len(left_x)\n",
    "    segment = np.zeros(number_of_segments, dtype = [('lx', int),\n",
    "                                  ('rx', int),\n",
    "                                  ('mc', float),\n",
    "                                  ('c', float)])\n",
    "    \n",
    "    for i in range(0, number_of_segments):\n",
    "        segment[i]['lx'] = left_x[i]\n",
    "        segment[i]['rx'] = right_x[i]\n",
    "        segment[i]['mc'] = float('inf')\n",
    "        segment[i]['c'] = float('inf')\n",
    "    \n",
    "    tc = degree\n",
    "    \n",
    "    return (segment, tc)"
   ]
  }
 ],
 "metadata": {
  "kernelspec": {
   "display_name": "Python 3 (ipykernel)",
   "language": "python",
   "name": "python3"
  },
  "language_info": {
   "codemirror_mode": {
    "name": "ipython",
    "version": 3
   },
   "file_extension": ".py",
   "mimetype": "text/x-python",
   "name": "python",
   "nbconvert_exporter": "python",
   "pygments_lexer": "ipython3",
   "version": "3.10.0"
  }
 },
 "nbformat": 4,
 "nbformat_minor": 5
}
