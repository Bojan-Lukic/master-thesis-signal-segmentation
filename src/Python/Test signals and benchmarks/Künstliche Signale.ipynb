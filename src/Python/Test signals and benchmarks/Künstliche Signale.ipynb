{
 "cells": [
  {
   "cell_type": "code",
   "execution_count": null,
   "metadata": {},
   "outputs": [],
   "source": [
    "import matplotlib.pyplot as plt\n",
    "import numpy as np\n",
    "import pandas as pd\n",
    "from scipy.ndimage.filters import gaussian_filter1d\n",
    "from plot import *\n",
    "from test_signal import *"
   ]
  },
  {
   "cell_type": "code",
   "execution_count": null,
   "metadata": {},
   "outputs": [],
   "source": [
    "# create equally spaced points between -10 and 10\n",
    "x = np.linspace(-5, 5, 41)\n",
    "\n",
    "# calculate the y value for each element of the x vector\n",
    "y = -x**2 + 50\n",
    "y2 = np.zeros(30) + 20\n",
    "y3 = y2\n",
    "y3 = np.append(y3, y)\n",
    "y3 = np.append(y3, y2) \n",
    "\n",
    "ysmoothed = gaussian_filter1d(y3, sigma=4)\n",
    "np.savetxt('resources/outfile.txt', ysmoothed, fmt='%d')\n",
    "\n",
    "single_plot(ysmoothed, 'Reading point', 'Signal range')\n",
    "plt.savefig(\"images/test_signal.svg\", bbox_inches=\"tight\")\n",
    "plt.show()"
   ]
  },
  {
   "cell_type": "code",
   "execution_count": null,
   "metadata": {},
   "outputs": [],
   "source": [
    "line_plot(ysmoothed, 'Reading point', 'Signal range', [20, 80], [\"Test signal\", \"Segmentation line\"])\n",
    "plt.savefig(\"images/test_signal_segmented.svg\", bbox_inches=\"tight\")\n",
    "plt.show()"
   ]
  },
  {
   "cell_type": "code",
   "execution_count": null,
   "metadata": {},
   "outputs": [],
   "source": [
    "line_plot(ysmoothed, 'Reading point', 'Signal range', [10, 60], [\"Test signal\", \"Segmentation line\"])\n",
    "plt.savefig(\"images/test_signal_segmented_wrong.svg\", bbox_inches=\"tight\")\n",
    "plt.show()"
   ]
  },
  {
   "cell_type": "code",
   "execution_count": null,
   "metadata": {},
   "outputs": [],
   "source": [
    "line_plot(ysmoothed, 'Reading point', 'Signal range', [20, 50, 80], [\"Test signal\", \"Segmentation line\"])\n",
    "plt.savefig(\"images/test_signal_segmented_2.svg\", bbox_inches=\"tight\")\n",
    "plt.show()"
   ]
  },
  {
   "cell_type": "code",
   "execution_count": null,
   "metadata": {},
   "outputs": [],
   "source": []
  },
  {
   "cell_type": "code",
   "execution_count": null,
   "metadata": {},
   "outputs": [],
   "source": [
    "# tot = create_test_signal()\n",
    "# np.savetxt('resources/outfile2.txt', tot, fmt='%d')\n",
    "# print(tot)"
   ]
  },
  {
   "cell_type": "code",
   "execution_count": null,
   "metadata": {
    "scrolled": false
   },
   "outputs": [],
   "source": [
    "tot = np.loadtxt('resources/outfile2.txt', dtype = int)\n",
    "\n",
    "for i in range(0, 3):\n",
    "    single_plot(tot[i], 'Reading point', 'Signal range', ax=True)\n",
    "    plt.show()\n",
    "\n",
    "fig, (ax1, ax2, ax3) = plt.subplots(3, figsize=(12, 8))\n",
    "ax1.grid()\n",
    "ax2.grid()\n",
    "ax3.grid()\n",
    "ax1.plot(tot[0])\n",
    "ax2.plot(tot[1], color=\"orange\")\n",
    "ax3.plot(tot[2], color=\"green\")\n",
    "plt.xlabel('Reading point r', fontsize=14)\n",
    "ax1.xaxis.set_major_locator(MaxNLocator(integer=True))\n",
    "ax2.xaxis.set_major_locator(MaxNLocator(integer=True))\n",
    "ax3.xaxis.set_major_locator(MaxNLocator(integer=True))\n",
    "ax2.set_ylabel('Signal range', fontsize=14)\n",
    "\n",
    "plt.savefig(\"images/multivariate_test_signal.svg\", bbox_inches=\"tight\")\n",
    "plt.show()"
   ]
  },
  {
   "cell_type": "code",
   "execution_count": null,
   "metadata": {},
   "outputs": [],
   "source": []
  },
  {
   "cell_type": "code",
   "execution_count": null,
   "metadata": {},
   "outputs": [],
   "source": [
    "tot = np.loadtxt('resources/outfile2.txt', dtype = int)\n",
    "color = [\"blue\", \"orange\", \"green\"]\n",
    "\n",
    "multiplot(tot, 'Reading point', 'Signal range', color)\n",
    "plt.savefig(\"images/test_signal_2.svg\", bbox_inches=\"tight\")\n",
    "plt.show()"
   ]
  },
  {
   "cell_type": "code",
   "execution_count": null,
   "metadata": {},
   "outputs": [],
   "source": [
    "tot = np.loadtxt('resources/outfile2.txt', dtype = int)\n",
    "color = [\"blue\", \"orange\", \"green\"]\n",
    "\n",
    "multiplot_lines(tot, 'Reading point', 'Signal range', color, [20, 40, 60, 80], 'Segmentation line')\n",
    "plt.savefig(\"images/test_signal_2_segmented.svg\", bbox_inches=\"tight\")\n",
    "plt.show()"
   ]
  },
  {
   "cell_type": "code",
   "execution_count": null,
   "metadata": {},
   "outputs": [],
   "source": [
    "tot = np.loadtxt('resources/outfile2.txt', dtype = int)\n",
    "color = [\"blue\", \"orange\", \"green\"]\n",
    "lines_1 = [10, 30, 50, 70]\n",
    "lines_2 = [25, 35, 65, 75]\n",
    "\n",
    "calibri = {'fontname':'Calibri'}\n",
    "fig, (ax1, ax2) = plt.subplots(2, figsize=(12, 8))\n",
    "ax1.grid()\n",
    "ax2.grid()\n",
    "for i in range(0, 3):\n",
    "    ax1.plot(tot[i], color=color[i])\n",
    "    ax2.plot(tot[i], color=color[i])\n",
    "ax1.axvline(x = lines_1[0], color = \"red\", linestyle = 'dashed', label = 'Segmentation line', ymin = 0.02, ymax = 0.98)\n",
    "ax2.axvline(x = lines_2[0], color = \"red\", linestyle = 'dashed', ymin = 0.02, ymax = 0.98)\n",
    "for i in range(1, len(lines_1)):\n",
    "    ax1.axvline(x = lines_1[i], color = \"red\", linestyle = 'dashed', ymin = 0.02, ymax = 0.98)\n",
    "    ax2.axvline(x = lines_2[i], color = \"red\", linestyle = 'dashed', ymin = 0.02, ymax = 0.98)\n",
    "plt.xlabel('Reading point', fontsize=14)\n",
    "ax1.set_ylabel('Signal range', fontsize=14)\n",
    "ax2.set_ylabel('Signal range', fontsize=14)\n",
    "ax1.legend(fontsize = 12)\n",
    "\n",
    "plt.savefig(\"images/test_signal_2_segmented_wrong.svg\", bbox_inches=\"tight\")\n",
    "plt.show()"
   ]
  }
 ],
 "metadata": {
  "kernelspec": {
   "display_name": "Python 3 (ipykernel)",
   "language": "python",
   "name": "python3"
  },
  "language_info": {
   "codemirror_mode": {
    "name": "ipython",
    "version": 3
   },
   "file_extension": ".py",
   "mimetype": "text/x-python",
   "name": "python",
   "nbconvert_exporter": "python",
   "pygments_lexer": "ipython3",
   "version": "3.7.0"
  }
 },
 "nbformat": 4,
 "nbformat_minor": 4
}
