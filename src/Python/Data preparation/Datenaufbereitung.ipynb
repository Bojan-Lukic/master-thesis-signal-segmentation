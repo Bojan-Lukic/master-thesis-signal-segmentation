{
 "cells": [
  {
   "cell_type": "code",
   "execution_count": null,
   "id": "cbdd2f42",
   "metadata": {},
   "outputs": [],
   "source": [
    "import numpy as np\n",
    "import matplotlib.pyplot as plt\n",
    "import pandas as pd\n",
    "from plot import *"
   ]
  },
  {
   "cell_type": "code",
   "execution_count": null,
   "id": "473333a3",
   "metadata": {
    "scrolled": false
   },
   "outputs": [],
   "source": [
    "A = np.loadtxt('resources/all_processes.txt')\n",
    "A = A.transpose()\n",
    "\n",
    "resultall = []\n",
    "resultallratio = []\n",
    "minlist = []\n",
    "ratiolist = []\n",
    "maxvalue = 0\n",
    "length = len(A[:, 0])\n",
    "index = 939 #index 603\n",
    "x = np.arange(1, length + 1)\n",
    "\n",
    "single_plot(A[:, 603], 'Reading point', 'Signal range')\n",
    "plt.savefig(\"images/sample_process.svg\", bbox_inches=\"tight\")\n",
    "plt.show()\n",
    "\n",
    "for i in range(0, index):\n",
    "    result = []\n",
    "    result = A[:, i]\n",
    "    \n",
    "    minlist = np.append(minlist, min(result))\n",
    "    minimum = min(result)\n",
    "    result = [x - minimum for x in result]\n",
    "    resultall.append(result)\n",
    "    \n",
    "    ratio = max(result)\n",
    "    ratiolist.append(round(ratio, 2))\n",
    "    if ratio > maxvalue:\n",
    "        maxvalue = ratio\n",
    "\n",
    "resultallcopy = A.transpose()\n",
    "multiplot(resultallcopy, 'Reading point', 'Signal range')\n",
    "plt.savefig(\"images/all_processes.svg\", bbox_inches=\"tight\")\n",
    "plt.show()\n",
    "        \n",
    "resultallbase = np.array(resultall)\n",
    "multiplot(resultallbase, 'Reading point', 'Signal range')\n",
    "plt.savefig(\"images/all_processes_base.svg\", bbox_inches=\"tight\")\n",
    "plt.show()\n",
    "\n",
    "maxvalue2 = max(ratiolist)\n",
    "ratiolist = [round(x * (1/maxvalue2), 2) for x in ratiolist]\n",
    "ratiolistunique = np.unique(ratiolist)\n",
    "ratiolistcount = ratiolistunique\n",
    "for i in range (0, len(ratiolistunique)):\n",
    "    ratiolistcount[i] = ratiolist.count(ratiolistunique[i])\n",
    "y_pos = np.arange(len(ratiolistunique))\n",
    "\n",
    "bar_plot(y_pos, ratiolistcount, 'Relative max values', 'Frequency')\n",
    "plt.show()\n",
    "\n",
    "threshold = 0.6\n",
    "for i in range(0, index):\n",
    "    if max(resultall[i]) > threshold * maxvalue:\n",
    "        resultall[i] = [x + minlist[i] for x in resultall[i]]\n",
    "        resultallratio.append(resultall[i])\n",
    "\n",
    "np.savetxt('resources/filtered_processes.txt', resultallratio, fmt='%d')\n",
    "resultallratio = np.array(resultallratio)\n",
    "multiplot(resultallratio, 'Reading point', 'Signal range')\n",
    "plt.savefig(\"images/all_processes_filtered.svg\", bbox_inches=\"tight\")\n",
    "plt.show()"
   ]
  }
 ],
 "metadata": {
  "kernelspec": {
   "display_name": "Python 3 (ipykernel)",
   "language": "python",
   "name": "python3"
  },
  "language_info": {
   "codemirror_mode": {
    "name": "ipython",
    "version": 3
   },
   "file_extension": ".py",
   "mimetype": "text/x-python",
   "name": "python",
   "nbconvert_exporter": "python",
   "pygments_lexer": "ipython3",
   "version": "3.7.0"
  }
 },
 "nbformat": 4,
 "nbformat_minor": 5
}
